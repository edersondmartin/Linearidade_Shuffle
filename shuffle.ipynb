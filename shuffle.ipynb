{
  "nbformat": 4,
  "nbformat_minor": 0,
  "metadata": {
    "colab": {
      "provenance": [],
      "authorship_tag": "ABX9TyNqAJUjGxhLkFRxiEAzsjen",
      "include_colab_link": true
    },
    "kernelspec": {
      "name": "python3",
      "display_name": "Python 3"
    },
    "language_info": {
      "name": "python"
    }
  },
  "cells": [
    {
      "cell_type": "markdown",
      "metadata": {
        "id": "view-in-github",
        "colab_type": "text"
      },
      "source": [
        "<a href=\"https://colab.research.google.com/github/edechem/Linearidade_Shuffle/blob/main/shuffle.ipynb\" target=\"_parent\"><img src=\"https://colab.research.google.com/assets/colab-badge.svg\" alt=\"Open In Colab\"/></a>"
      ]
    },
    {
      "cell_type": "code",
      "execution_count": 1,
      "metadata": {
        "id": "gH_BWU6fCiGV"
      },
      "outputs": [],
      "source": [
        "import random"
      ]
    },
    {
      "cell_type": "code",
      "source": [
        "lista = ['0,05% ST1', '0,05% ST2', '0,05% ST3',\n",
        "         '0,10% ST1', '0,10% ST2', '0,10% ST3',\n",
        "         '0,15% ST1', '0,15% ST2', '0,15% ST3',\n",
        "         '0,20% ST1', '0,20% ST2', '0,20% ST3',\n",
        "         '0,24% ST1', '0,24% ST2', '0,24% ST3']\n",
        "\n",
        "random.shuffle(lista)"
      ],
      "metadata": {
        "id": "PgBl9BzJC0_6"
      },
      "execution_count": 2,
      "outputs": []
    },
    {
      "cell_type": "code",
      "source": [
        "print(*lista, sep = ', ')"
      ],
      "metadata": {
        "colab": {
          "base_uri": "https://localhost:8080/"
        },
        "id": "PQP_tcE6EA8i",
        "outputId": "a1bbea77-c7a4-4697-d5ee-a03d0eb73d54"
      },
      "execution_count": 3,
      "outputs": [
        {
          "output_type": "stream",
          "name": "stdout",
          "text": [
            "0,05% ST3, 0,05% ST2, 0,10% ST2, 0,20% ST2, 0,20% ST3, 0,20% ST1, 0,15% ST2, 0,15% ST1, 0,24% ST1, 0,10% ST3, 0,24% ST3, 0,15% ST3, 0,24% ST2, 0,05% ST1, 0,10% ST1\n"
          ]
        }
      ]
    }
  ]
}